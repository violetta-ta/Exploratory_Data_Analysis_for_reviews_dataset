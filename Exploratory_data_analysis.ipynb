{
  "nbformat": 4,
  "nbformat_minor": 0,
  "metadata": {
    "colab": {
      "name": "Exploratory data analysis.ipynb",
      "provenance": [],
      "collapsed_sections": []
    },
    "kernelspec": {
      "name": "python3",
      "display_name": "Python 3"
    },
    "language_info": {
      "name": "python"
    }
  },
  "cells": [
    {
      "cell_type": "markdown",
      "metadata": {
        "id": "38lCGBVsfOJp"
      },
      "source": [
        "# **Exploratory data analysis for the `Arts and Crafts` Amazon dataset**"
      ]
    },
    {
      "cell_type": "markdown",
      "metadata": {
        "id": "qPvFcgY8vc4d"
      },
      "source": [
        "In this project, I had a target to check the content of retail product reviews dataset and see some patterns which can be interesting and potentially lead to some business decesions.\n",
        "\n",
        "  I have chosen the dataset, located at https://nijianmo.github.io/amazon/index.html, which represents the 494485 reviews of the Amazon users in the category \"Arts, Crafts and Sewing\" for the years from March 2004 to October 2018. The dataset is reduced, which means it contains only the products with at least 5 reviews in each. "
      ]
    },
    {
      "cell_type": "markdown",
      "metadata": {
        "id": "UiWbw5AHgxS6"
      },
      "source": [
        "##Exploratory data analysis."
      ]
    },
    {
      "cell_type": "markdown",
      "metadata": {
        "id": "SplNzj6lg6dC"
      },
      "source": [
        "To start with, let's load the libraries:"
      ]
    },
    {
      "cell_type": "code",
      "source": [
        "import pandas as pd\n",
        "import gzip\n",
        "import json\n",
        "import matplotlib.pyplot as plt\n",
        "import matplotlib \n",
        "from bs4 import BeautifulSoup\n",
        "import re"
      ],
      "metadata": {
        "id": "QRwZNQUJIMaO"
      },
      "execution_count": 1,
      "outputs": []
    },
    {
      "cell_type": "markdown",
      "source": [
        "Now, let's load the data from `gzip` file to the Pandas dataframe."
      ],
      "metadata": {
        "id": "r7S94UG-IX-K"
      }
    },
    {
      "cell_type": "code",
      "metadata": {
        "id": "qDoFNZyevhOx"
      },
      "source": [
        "def parse(path):\n",
        "  g = gzip.open(path, 'rb')\n",
        "  for l in g:\n",
        "    yield json.loads(l)\n",
        "\n",
        "file_path = 'Arts_Crafts_and_Sewing_5.json.gz'\n",
        "i = 0\n",
        "data = {}\n",
        "for d in parse(file_path):\n",
        "  data[i] = d\n",
        "  i += 1\n",
        "\n",
        "arts = pd.DataFrame.from_dict(data, orient='index')\n"
      ],
      "execution_count": 2,
      "outputs": []
    },
    {
      "cell_type": "markdown",
      "metadata": {
        "id": "RuF15YTxl4F_"
      },
      "source": [
        "Let's check content of the dataset."
      ]
    },
    {
      "cell_type": "code",
      "metadata": {
        "colab": {
          "base_uri": "https://localhost:8080/"
        },
        "id": "YsNW8VM3l8Xm",
        "outputId": "57a4b049-a2d4-470c-dc2e-9c6d9a2e0675"
      },
      "source": [
        "arts.info()"
      ],
      "execution_count": 3,
      "outputs": [
        {
          "output_type": "stream",
          "name": "stdout",
          "text": [
            "<class 'pandas.core.frame.DataFrame'>\n",
            "Int64Index: 494485 entries, 0 to 494484\n",
            "Data columns (total 12 columns):\n",
            " #   Column          Non-Null Count   Dtype  \n",
            "---  ------          --------------   -----  \n",
            " 0   overall         494485 non-null  float64\n",
            " 1   verified        494485 non-null  bool   \n",
            " 2   reviewTime      494485 non-null  object \n",
            " 3   reviewerID      494485 non-null  object \n",
            " 4   asin            494485 non-null  object \n",
            " 5   style           233134 non-null  object \n",
            " 6   reviewerName    494443 non-null  object \n",
            " 7   reviewText      494196 non-null  object \n",
            " 8   summary         494362 non-null  object \n",
            " 9   unixReviewTime  494485 non-null  int64  \n",
            " 10  vote            71015 non-null   object \n",
            " 11  image           10789 non-null   object \n",
            "dtypes: bool(1), float64(1), int64(1), object(9)\n",
            "memory usage: 45.7+ MB\n"
          ]
        }
      ]
    },
    {
      "cell_type": "markdown",
      "metadata": {
        "id": "SbOoTYzQmpJO"
      },
      "source": [
        "The dataset contains following columns:\n",
        "- `overall`. Represents the rating score given by the user to the item during review. The values are from 1 to 5\n",
        "- `verified`. If the review is verified (True/False)\n",
        "- `reviewTime`. The date when the review is done (MM DD, YYYY)\n",
        "- `reviewerID`. ID of the user made the review\n",
        "- `asin`. ID of the product\n",
        "- `style`. Dictionary of product metadata, for instance the color, type of cover, etc.\n",
        "- `reviewerName`. Name of the user\n",
        "- `reviewText`. The text of review itself\n",
        "- `summary`. The header of the review\n",
        "- `unixReviewTime`. Unix time of the review \n",
        "- `vote`. How many other users found this review helpful\n",
        "- `image`. The images, loaded by user for the review (link to image or list of links)."
      ]
    },
    {
      "cell_type": "markdown",
      "metadata": {
        "id": "IpGZdPHHh75K"
      },
      "source": [
        "I will convert the type of the `reviewerName`, `summary`, `asin` and `reviewText` to string format, and reviewTime to date format."
      ]
    },
    {
      "cell_type": "code",
      "metadata": {
        "id": "Zx9UGiHgiIk4"
      },
      "source": [
        "arts.reviewerID.astype('string')\n",
        "arts.reviewText.astype('string')\n",
        "arts.summary.astype('string')\n",
        "arts.asin.astype('string')\n",
        "arts.reviewTime=pd.to_datetime(arts.reviewTime) "
      ],
      "execution_count": 4,
      "outputs": []
    },
    {
      "cell_type": "markdown",
      "metadata": {
        "id": "O5unDT-Jb87l"
      },
      "source": [
        "If we will inspect how many users left the reviews, it will appear that there was 56210 users left the reviews for 22931 items."
      ]
    },
    {
      "cell_type": "code",
      "metadata": {
        "colab": {
          "base_uri": "https://localhost:8080/"
        },
        "id": "rqwoo373_I9s",
        "outputId": "0ccd3a80-ec38-4a0f-99de-8f4acb6cc703"
      },
      "source": [
        "print(\"Unique users\", len(arts.reviewerID.unique()))\n",
        "print(\"Unique items\", len(arts.asin.unique()))"
      ],
      "execution_count": 5,
      "outputs": [
        {
          "output_type": "stream",
          "name": "stdout",
          "text": [
            "Unique users 56210\n",
            "Unique items 22931\n"
          ]
        }
      ]
    },
    {
      "cell_type": "code",
      "source": [
        "reviews_users=arts[[\"reviewerID\", \"asin\"]]\n",
        "count_reviews=reviews_users.groupby(['reviewerID']).count()\n",
        "reviews_users=pd.DataFrame({\"users\": count_reviews.index, \"review_num\":count_reviews[\"asin\"]})\n",
        "reviews_users=reviews_users.sort_values(by=['review_num'], ascending=False).reset_index(drop=True)\n",
        "\n",
        "#Plot of relation of number of reviews per 1 user\n",
        "plt.hist(reviews_users.review_num[reviews_users.review_num < 50], density=False, bins=15)  # density=False would make counts\n",
        "plt.ylabel('Users')\n",
        "plt.xlabel('Number of reviews');\n",
        "\n",
        "print(\"Number of users with number of reviews more than 50 is:\", len(reviews_users.review_num[reviews_users.review_num>50]))"
      ],
      "metadata": {
        "colab": {
          "base_uri": "https://localhost:8080/",
          "height": 296
        },
        "id": "lxuTJh1tJViq",
        "outputId": "11939f40-a72a-4594-86ef-47ea35adee7a"
      },
      "execution_count": 6,
      "outputs": [
        {
          "output_type": "stream",
          "name": "stdout",
          "text": [
            "Number of users with number of reviews more than 50 is: 226\n"
          ]
        },
        {
          "output_type": "display_data",
          "data": {
            "image/png": "[encoded data removed]",
            "text/plain": [
              "<Figure size 432x288 with 1 Axes>"
            ]
          },
          "metadata": {
            "needs_background": "light"
          }
        }
      ]
    },
    {
      "cell_type": "markdown",
      "source": [
        "From the plot above, it is visible, that most of the users left less than 20 reviews, and only 226 users out of 56210 left over 50 reviews. That may be some bulk purchasing companies which most probably buy huge number of positions per period of time and so leaving so many reviews. In case if I would have some more data, I would explore this dependency more, as it can happen to be some suspicious user activity. "
      ],
      "metadata": {
        "id": "p8o8ADd1TAFb"
      }
    },
    {
      "cell_type": "markdown",
      "metadata": {
        "id": "h-dP0Xo_p6ej"
      },
      "source": [
        "If we will look at the dataset info, we will see that not all the users who put the rating, left the review text or the summary. \n",
        "Number of reviews, containing images is almost 50 times smaller than overall number of reviews. \n",
        "Also, we will see that half of the review is lacking `style` input, and almost 85% of reviews do not have votes. "
      ]
    },
    {
      "cell_type": "code",
      "metadata": {
        "colab": {
          "base_uri": "https://localhost:8080/"
        },
        "id": "cxjWVJlSqIMz",
        "outputId": "77d2324c-9ae9-4ab7-bc9d-1225d495db08"
      },
      "source": [
        "arts.isnull().sum()"
      ],
      "execution_count": 7,
      "outputs": [
        {
          "output_type": "execute_result",
          "data": {
            "text/plain": [
              "overall                0\n",
              "verified               0\n",
              "reviewTime             0\n",
              "reviewerID             0\n",
              "asin                   0\n",
              "style             261351\n",
              "reviewerName          42\n",
              "reviewText           289\n",
              "summary              123\n",
              "unixReviewTime         0\n",
              "vote              423470\n",
              "image             483696\n",
              "dtype: int64"
            ]
          },
          "metadata": {},
          "execution_count": 7
        }
      ]
    },
    {
      "cell_type": "markdown",
      "metadata": {
        "id": "qHDIj-G0ubFv"
      },
      "source": [
        "Let's check, for which kind of rates the votes and the missing review text and summary present."
      ]
    },
    {
      "cell_type": "code",
      "metadata": {
        "colab": {
          "base_uri": "https://localhost:8080/",
          "height": 295
        },
        "id": "qe7d_pI1unRa",
        "outputId": "ea780b93-21ec-4db4-9b68-59ef48e95168"
      },
      "source": [
        "#Ratio in % of the reviews in each rate category, which have \"vote\" field empty:\n",
        "arts.overall[arts.vote.isnull()].value_counts()\n",
        "vote_empty=round(((arts.overall.value_counts()-arts.overall[arts.vote.isnull()].value_counts())/arts.overall.value_counts())*100)\n",
        "\n",
        "plt.bar(vote_empty.index, vote_empty)\n",
        "plt.title('Ratio of the reviews, lacking votes, per rating figure')\n",
        "plt.xlabel('Rating')\n",
        "plt.ylabel('% of all reviews with this rating')\n",
        "plt.show()"
      ],
      "execution_count": 8,
      "outputs": [
        {
          "output_type": "display_data",
          "data": {
            "image/png": "[encoded data removed]",
            "text/plain": [
              "<Figure size 432x288 with 1 Axes>"
            ]
          },
          "metadata": {
            "needs_background": "light"
          }
        }
      ]
    },
    {
      "cell_type": "code",
      "metadata": {
        "colab": {
          "base_uri": "https://localhost:8080/"
        },
        "id": "6V4YgPDJvsid",
        "outputId": "a46fc1da-379d-43dd-b744-cabaf865800a"
      },
      "source": [
        "#Ratio of the \"5.0\" reviews among the reviews which have \"reviewText\" field empty:\n",
        "arts.overall[arts.reviewText.isnull()].value_counts()\n",
        "(arts.overall[arts.reviewText.isnull()].value_counts()[5]/arts.overall[arts.reviewText.isnull()].value_counts().sum())"
      ],
      "execution_count": 9,
      "outputs": [
        {
          "output_type": "execute_result",
          "data": {
            "text/plain": [
              "0.889273356401384"
            ]
          },
          "metadata": {},
          "execution_count": 9
        }
      ]
    },
    {
      "cell_type": "code",
      "metadata": {
        "colab": {
          "base_uri": "https://localhost:8080/"
        },
        "id": "J-20wEqNv7qx",
        "outputId": "a3b56a18-b1cc-4fb8-bc3e-5820f8b31c88"
      },
      "source": [
        "#Ratio of the \"5.0\" reviews among the reviews  which have \"summary\" field empty:\n",
        "arts.overall[arts.summary.isnull()].value_counts()\n",
        "arts.overall[arts.summary.isnull()].value_counts()[5]/arts.overall[arts.summary.isnull()].value_counts().sum()"
      ],
      "execution_count": 10,
      "outputs": [
        {
          "output_type": "execute_result",
          "data": {
            "text/plain": [
              "0.8536585365853658"
            ]
          },
          "metadata": {},
          "execution_count": 10
        }
      ]
    },
    {
      "cell_type": "markdown",
      "metadata": {
        "id": "FxoVb250kZVh"
      },
      "source": [
        "It is interesting, that for the votes, the less the rate of the review, the bigger ratio of votes for that review. For instance, for '1.0' and '2.0' ratings 33% and 25% of reviews respectively contain votes. It looks like the users who are completely dissatisfied by the product quality, prefer to click a vote button than leave a review. In case if there will be a research for certain products quality, it is better to include the votes as additional reviews without a text but with corresponding rate. "
      ]
    },
    {
      "cell_type": "markdown",
      "metadata": {
        "id": "tsoXoFk5-Rvt"
      },
      "source": [
        "At the same time with the text of review and summary the situation is the opposite. The largest amount of the rates without review text or summary go with '5.0' rate (89% and 85% correspoindingly). "
      ]
    },
    {
      "cell_type": "code",
      "metadata": {
        "colab": {
          "base_uri": "https://localhost:8080/",
          "height": 295
        },
        "id": "E8xguOAV_odu",
        "outputId": "ac51f536-8af2-463d-d669-1c187baf3c33"
      },
      "source": [
        "#Ratio in % of the reviews in each rate category, which have \"image\" field non-empty:\n",
        "arts.overall[arts.image.isnull()].value_counts()\n",
        "image_present=round(((arts.overall.value_counts()-arts.overall[arts.image.isnull()].value_counts())/arts.overall.value_counts())*100)\n",
        "\n",
        "plt.bar(image_present.index, image_present)\n",
        "plt.title('Ratio of the reviews, having images, per rating figure')\n",
        "plt.xlabel('Rating')\n",
        "plt.ylabel('% of all reviews with this rating')\n",
        "plt.show()"
      ],
      "execution_count": 11,
      "outputs": [
        {
          "output_type": "display_data",
          "data": {
            "image/png": "[encoded data removed]",
            "text/plain": [
              "<Figure size 432x288 with 1 Axes>"
            ]
          },
          "metadata": {
            "needs_background": "light"
          }
        }
      ]
    },
    {
      "cell_type": "markdown",
      "metadata": {
        "id": "JAOQmHmV_49f"
      },
      "source": [
        "For the images, the users added them with the similar frequency for whatever rate they put to the review. However, you can see that the highest number of pictures go with the lowest rating (1.0), so most probably users are mostly showing the defects which they spotted on the posted pictures. And as you can see, the number of review, containing images, is just 2-4% of overall reviews number."
      ]
    },
    {
      "cell_type": "markdown",
      "source": [
        "We can see in the `style` field, that only half of the reviews contain information about the style. I have parsed the column to get all the style categories, which are being mentioned, and found out that it is naturally everything - from the color of the goods to the package properties. Having in mind the number of categories and number of possible values in each of them, I skipped making the analysis of the ratings per styling category. "
      ],
      "metadata": {
        "id": "umu971zOZy_z"
      }
    },
    {
      "cell_type": "code",
      "metadata": {
        "id": "34cng2NpkrDk",
        "colab": {
          "base_uri": "https://localhost:8080/"
        },
        "outputId": "347ce98b-8229-4ea3-870d-efb2fccedf4c"
      },
      "source": [
        "styles=arts['style'].tolist()\n",
        "\n",
        "for i in range(len(styles)):\n",
        "    if  pd.isna(styles[i]):\n",
        "        styles[i]={}\n",
        "set().union(*styles)\n",
        "styles_d = {style_type: [s.get(style_type) for s in styles] for style_type in set().union(*styles) }\n",
        "print(styles_d.keys())"
      ],
      "execution_count": 12,
      "outputs": [
        {
          "output_type": "stream",
          "name": "stdout",
          "text": [
            "dict_keys(['Product Packaging:', 'Size:', 'Overall Length:', 'Color:', 'Design:', 'Material Type:', 'Package Type:', 'Scent:', 'Pattern:', 'Color Name:', 'Scent Name:', 'Size Name:', 'Display Height:', 'Item Package Quantity:', 'Style Name:', 'Item Display Length:', 'Format:', 'Edition:', 'Material:', 'Number of Items:', 'Length:', 'style name:', 'Style:', 'Package Quantity:'])\n"
          ]
        }
      ]
    },
    {
      "cell_type": "markdown",
      "source": [
        "I'm going to skip analysing the column `unixReviewTime` as we have already `reviewTime` and column `verified`, as most of the rows of the `verified` have \"True\" value, so this column will not carry significant info. "
      ],
      "metadata": {
        "id": "QX65jwo3EpO7"
      }
    },
    {
      "cell_type": "markdown",
      "metadata": {
        "id": "LTWe3dc2AC6h"
      },
      "source": [
        "Let's see what's the split of the review per rates:"
      ]
    },
    {
      "cell_type": "code",
      "metadata": {
        "colab": {
          "base_uri": "https://localhost:8080/",
          "height": 295
        },
        "id": "tiuUIgic0ELI",
        "outputId": "921daab1-40e3-40f6-cb14-862ff7b12351"
      },
      "source": [
        "rate_counts=arts.overall.value_counts()\n",
        "\n",
        "plt.bar(rate_counts.index, rate_counts)\n",
        "plt.title('Number of reviews per rating')\n",
        "plt.xlabel('Rating')\n",
        "plt.ylabel('Number of reviews')\n",
        "plt.show()"
      ],
      "execution_count": 13,
      "outputs": [
        {
          "output_type": "display_data",
          "data": {
            "image/png": "[encoded data removed]",
            "text/plain": [
              "<Figure size 432x288 with 1 Axes>"
            ]
          },
          "metadata": {
            "needs_background": "light"
          }
        }
      ]
    },
    {
      "cell_type": "code",
      "metadata": {
        "colab": {
          "base_uri": "https://localhost:8080/"
        },
        "id": "upmmUa-v0VMk",
        "outputId": "e3209d30-a7c2-4100-c3c1-1d7d3bf84aaa"
      },
      "source": [
        "arts.overall.value_counts()[5]/arts.overall.value_counts().sum()"
      ],
      "execution_count": 14,
      "outputs": [
        {
          "output_type": "execute_result",
          "data": {
            "text/plain": [
              "0.7635620898510571"
            ]
          },
          "metadata": {},
          "execution_count": 14
        }
      ]
    },
    {
      "cell_type": "markdown",
      "metadata": {
        "id": "ggLufc0g1twn"
      },
      "source": [
        "If we will look at the distribution of the ratings, we will see that the dataset is very much skewed towards the \"5.0\" rating. Cumulative count of all the rest of the rates is lower than the number of rates with rating \"5.0\". During modeling, we will need to take into account this imbalance.  "
      ]
    },
    {
      "cell_type": "markdown",
      "metadata": {
        "id": "vrMeNu0T0MgJ"
      },
      "source": [
        "I have checked several other Amazon dataset categories on the same resource, and appeared that this pattern is similar at least for part of them (for instance, 'Digital Music' and 'Video Games'). The skew for the category 'Appliances' was much lower. This may mean that the people tend to have good emotions about their hobby for which they purchase some materials and so more often put high rates, or have more information about the product in the item description and less hidden features which worked not as expected and revealed later during use. That investigation can be done only with more product information at hand.   "
      ]
    },
    {
      "cell_type": "markdown",
      "source": [
        "The reviews in the dataset can be observed in the following time interval:"
      ],
      "metadata": {
        "id": "EK28SQzjBhuo"
      }
    },
    {
      "cell_type": "code",
      "metadata": {
        "colab": {
          "base_uri": "https://localhost:8080/"
        },
        "id": "Wo8CG5xMkEil",
        "outputId": "77deba66-800c-4ac4-ae24-0d2c196a2ac2"
      },
      "source": [
        "print(min(arts.reviewTime))\n",
        "print(max(arts.reviewTime))"
      ],
      "execution_count": 15,
      "outputs": [
        {
          "output_type": "stream",
          "name": "stdout",
          "text": [
            "2004-05-16 00:00:00\n",
            "2018-10-03 00:00:00\n"
          ]
        }
      ]
    },
    {
      "cell_type": "markdown",
      "source": [
        "Let's see how the number of reviews is distributed over time in this dataset."
      ],
      "metadata": {
        "id": "I09edHoq2G8e"
      }
    },
    {
      "cell_type": "code",
      "source": [
        "review_over_time=arts[[\"reviewTime\", \"overall\"]]\n",
        "count_rate=review_over_time.groupby(['reviewTime']).count()"
      ],
      "metadata": {
        "id": "y4sICaXWr1Bo"
      },
      "execution_count": 16,
      "outputs": []
    },
    {
      "cell_type": "code",
      "source": [
        "date=list(count_rate[[\"overall\"]].index.values)\n",
        "count=count_rate[[\"overall\"]]\n",
        "plt.scatter(date, count, label=\"reviews\")\n",
        "plt.title(\"Count of reviews over time\")\n",
        "plt.xlabel(\"time\")\n",
        "plt.ylabel(\"Number of reviews\")\n",
        "plt.legend()\n",
        "plt.xticks(rotation=45)\n",
        "\n",
        "plt.show()"
      ],
      "metadata": {
        "colab": {
          "base_uri": "https://localhost:8080/",
          "height": 310
        },
        "id": "m7nU5Q6q1gJY",
        "outputId": "9f26f93e-7f1b-442c-d93a-9123c4efaafd"
      },
      "execution_count": 17,
      "outputs": [
        {
          "output_type": "display_data",
          "data": {
            "image/png": "[encoded data removed]",
            "text/plain": [
              "<Figure size 432x288 with 1 Axes>"
            ]
          },
          "metadata": {
            "needs_background": "light"
          }
        }
      ]
    },
    {
      "cell_type": "markdown",
      "source": [
        "It is seen from the graph above, that the number of reviews per day did not exceed 10-20 before 2013, while after that time it started to grow almost exponentially. The peak of the review numbers came at 2016, and it declined drastically (almost to the initial minimum) to the end of the observation period. It can happen, that due to the time distribution specifics, it will worth to take only part of the reviews between 2015 and 2018 for modeling, as the reviews out of this time range may differ by some parameters from any other period in this dataset."
      ],
      "metadata": {
        "id": "ykMa_w5t2QUs"
      }
    },
    {
      "cell_type": "markdown",
      "source": [
        "The next test I want to do is to define, whether the number of words in the review anyhow corresponds to the rating, the user gave to the certain item."
      ],
      "metadata": {
        "id": "IoGjFFqvi86R"
      }
    },
    {
      "cell_type": "markdown",
      "source": [
        "First, I will clean the column `reviewText` from the html links and count the words, recording it to the separate list. Then, I will create a dataframe with the ratings and the count of words, and plot the relation between them."
      ],
      "metadata": {
        "id": "Ac4tJTuHnT5Z"
      }
    },
    {
      "cell_type": "code",
      "source": [
        "text_df=arts[[\"reviewText\", \"overall\"]]\n",
        "text_df=text_df.dropna()\n",
        "word_count=[]\n",
        "\n",
        "for review in text_df[\"reviewText\"]:\n",
        "    \n",
        "    #Removing HTML tags from reviews\n",
        "    review_clean = BeautifulSoup(review).get_text()\n",
        "\n",
        "    #Removing all punctuation signs from the text, replacing it with spaces \n",
        "    review_clean = re.sub(\"[^a-zA-Z0-9']\",\" \",review_clean)\n",
        "    \n",
        "    #Splitting review into words and recording the count\n",
        "    wcount=len(review_clean.split())\n",
        "    word_count.append(wcount)"
      ],
      "metadata": {
        "colab": {
          "base_uri": "https://localhost:8080/"
        },
        "id": "lrSopvtni8Ve",
        "outputId": "4a7afa62-a760-4349-d6a2-d19a9ddb2aac"
      },
      "execution_count": 18,
      "outputs": [
        {
          "output_type": "stream",
          "name": "stderr",
          "text": [
            "/usr/local/lib/python3.7/dist-packages/bs4/__init__.py:336: UserWarning: \"https://images-na.ssl-images-amazon.com/images/I/41c-Ua-m7UL._SS300_.jpg\" looks like a URL. Beautiful Soup is not an HTTP client. You should probably use an HTTP client like requests to get the document behind the URL, and feed that document to Beautiful Soup.\n",
            "  ' that document to Beautiful Soup.' % decoded_markup\n",
            "/usr/local/lib/python3.7/dist-packages/bs4/__init__.py:336: UserWarning: \"http://www.amazon.com/Cant-Believe-Knitting-Socks-Leisure/dp/1601402503?ie=UTF8&redirect=true&ref_=cm_cr_ryp_prd_ttl_sol_2\" looks like a URL. Beautiful Soup is not an HTTP client. You should probably use an HTTP client like requests to get the document behind the URL, and feed that document to Beautiful Soup.\n",
            "  ' that document to Beautiful Soup.' % decoded_markup\n",
            "/usr/local/lib/python3.7/dist-packages/bs4/__init__.py:336: UserWarning: \"https://images-na.ssl-images-amazon.com/images/I/41r58yR2r0L._SS300_.jpg\" looks like a URL. Beautiful Soup is not an HTTP client. You should probably use an HTTP client like requests to get the document behind the URL, and feed that document to Beautiful Soup.\n",
            "  ' that document to Beautiful Soup.' % decoded_markup\n",
            "/usr/local/lib/python3.7/dist-packages/bs4/__init__.py:336: UserWarning: \"https://images-na.ssl-images-amazon.com/images/I/514ljW1mixL._SS300_.jpg\" looks like a URL. Beautiful Soup is not an HTTP client. You should probably use an HTTP client like requests to get the document behind the URL, and feed that document to Beautiful Soup.\n",
            "  ' that document to Beautiful Soup.' % decoded_markup\n",
            "/usr/local/lib/python3.7/dist-packages/bs4/__init__.py:336: UserWarning: \"https://images-na.ssl-images-amazon.com/images/I/41lVBREVSYL._SS300_.jpg\" looks like a URL. Beautiful Soup is not an HTTP client. You should probably use an HTTP client like requests to get the document behind the URL, and feed that document to Beautiful Soup.\n",
            "  ' that document to Beautiful Soup.' % decoded_markup\n",
            "/usr/local/lib/python3.7/dist-packages/bs4/__init__.py:336: UserWarning: \"https://www.amazon.com/gp/product/B0130FBB0O/ref=cm_cr_ryp_prd_ttl_sol_0\" looks like a URL. Beautiful Soup is not an HTTP client. You should probably use an HTTP client like requests to get the document behind the URL, and feed that document to Beautiful Soup.\n",
            "  ' that document to Beautiful Soup.' % decoded_markup\n",
            "/usr/local/lib/python3.7/dist-packages/bs4/__init__.py:336: UserWarning: \"https://images-na.ssl-images-amazon.com/images/I/61F5-8CjMdL._SS300_.jpg\" looks like a URL. Beautiful Soup is not an HTTP client. You should probably use an HTTP client like requests to get the document behind the URL, and feed that document to Beautiful Soup.\n",
            "  ' that document to Beautiful Soup.' % decoded_markup\n",
            "/usr/local/lib/python3.7/dist-packages/bs4/__init__.py:336: UserWarning: \"https://images-na.ssl-images-amazon.com/images/I/41mxL%2BNLSiL._SS300_.jpg\" looks like a URL. Beautiful Soup is not an HTTP client. You should probably use an HTTP client like requests to get the document behind the URL, and feed that document to Beautiful Soup.\n",
            "  ' that document to Beautiful Soup.' % decoded_markup\n",
            "/usr/local/lib/python3.7/dist-packages/bs4/__init__.py:336: UserWarning: \"https://images-na.ssl-images-amazon.com/images/I/4193VUvIWjL._SS300_.jpg\" looks like a URL. Beautiful Soup is not an HTTP client. You should probably use an HTTP client like requests to get the document behind the URL, and feed that document to Beautiful Soup.\n",
            "  ' that document to Beautiful Soup.' % decoded_markup\n",
            "/usr/local/lib/python3.7/dist-packages/bs4/__init__.py:336: UserWarning: \"https://images-na.ssl-images-amazon.com/images/I/51lCMxUWG-L._SL500_SS300_.jpg\" looks like a URL. Beautiful Soup is not an HTTP client. You should probably use an HTTP client like requests to get the document behind the URL, and feed that document to Beautiful Soup.\n",
            "  ' that document to Beautiful Soup.' % decoded_markup\n",
            "/usr/local/lib/python3.7/dist-packages/bs4/__init__.py:336: UserWarning: \"https://images-na.ssl-images-amazon.com/images/I/51QesMqp29L._SS300_.jpg\" looks like a URL. Beautiful Soup is not an HTTP client. You should probably use an HTTP client like requests to get the document behind the URL, and feed that document to Beautiful Soup.\n",
            "  ' that document to Beautiful Soup.' % decoded_markup\n",
            "/usr/local/lib/python3.7/dist-packages/bs4/__init__.py:336: UserWarning: \"https://images-na.ssl-images-amazon.com/images/I/419ZUFhkrJL._SS300_.jpg\" looks like a URL. Beautiful Soup is not an HTTP client. You should probably use an HTTP client like requests to get the document behind the URL, and feed that document to Beautiful Soup.\n",
            "  ' that document to Beautiful Soup.' % decoded_markup\n",
            "/usr/local/lib/python3.7/dist-packages/bs4/__init__.py:336: UserWarning: \"https://images-na.ssl-images-amazon.com/images/I/41RSL2vXOEL._SS300_.jpg\" looks like a URL. Beautiful Soup is not an HTTP client. You should probably use an HTTP client like requests to get the document behind the URL, and feed that document to Beautiful Soup.\n",
            "  ' that document to Beautiful Soup.' % decoded_markup\n",
            "/usr/local/lib/python3.7/dist-packages/bs4/__init__.py:336: UserWarning: \"http://www.amazon.com/gp/product/B00JBEX6BQ?redirect=true&ref_=cm_cr_ryp_prd_ttl_sol_5\" looks like a URL. Beautiful Soup is not an HTTP client. You should probably use an HTTP client like requests to get the document behind the URL, and feed that document to Beautiful Soup.\n",
            "  ' that document to Beautiful Soup.' % decoded_markup\n",
            "/usr/local/lib/python3.7/dist-packages/bs4/__init__.py:336: UserWarning: \"https://images-na.ssl-images-amazon.com/images/I/51Wn1qILXaL._SS300_.jpg\" looks like a URL. Beautiful Soup is not an HTTP client. You should probably use an HTTP client like requests to get the document behind the URL, and feed that document to Beautiful Soup.\n",
            "  ' that document to Beautiful Soup.' % decoded_markup\n",
            "/usr/local/lib/python3.7/dist-packages/bs4/__init__.py:336: UserWarning: \"https://images-na.ssl-images-amazon.com/images/I/41KiDmiITHL._SS300_.jpg\" looks like a URL. Beautiful Soup is not an HTTP client. You should probably use an HTTP client like requests to get the document behind the URL, and feed that document to Beautiful Soup.\n",
            "  ' that document to Beautiful Soup.' % decoded_markup\n",
            "/usr/local/lib/python3.7/dist-packages/bs4/__init__.py:336: UserWarning: \"https://images-na.ssl-images-amazon.com/images/I/41v0QI47WtL._SS300_.jpg\" looks like a URL. Beautiful Soup is not an HTTP client. You should probably use an HTTP client like requests to get the document behind the URL, and feed that document to Beautiful Soup.\n",
            "  ' that document to Beautiful Soup.' % decoded_markup\n",
            "/usr/local/lib/python3.7/dist-packages/bs4/__init__.py:336: UserWarning: \"https://images-na.ssl-images-amazon.com/images/I/51UmizeMR-L._SS300_.jpg\" looks like a URL. Beautiful Soup is not an HTTP client. You should probably use an HTTP client like requests to get the document behind the URL, and feed that document to Beautiful Soup.\n",
            "  ' that document to Beautiful Soup.' % decoded_markup\n"
          ]
        }
      ]
    },
    {
      "cell_type": "code",
      "source": [
        "text_df[\"word_count\"]=word_count\n",
        "count_a=text_df.groupby(['overall']).median()\n",
        "\n",
        "plt.bar(count_a.index, count_a.word_count)\n",
        "plt.title(\"Average word count for each rating value\")\n",
        "plt.xlabel(\"Rating\")\n",
        "plt.ylabel(\"Average words count\")\n",
        "\n",
        "plt.show()"
      ],
      "metadata": {
        "colab": {
          "base_uri": "https://localhost:8080/",
          "height": 295
        },
        "id": "mqdmfjqbp_vK",
        "outputId": "51bbf975-6372-4436-add4-b317c3722267"
      },
      "execution_count": 19,
      "outputs": [
        {
          "output_type": "display_data",
          "data": {
            "image/png": "[encoded data removed]",
            "text/plain": [
              "<Figure size 432x288 with 1 Axes>"
            ]
          },
          "metadata": {
            "needs_background": "light"
          }
        }
      ]
    },
    {
      "cell_type": "markdown",
      "source": [
        "We can see from the plot above, that the users, giving lower ratings, tend to give more explanations on them, while the high ratings tend to have much less words per review. I have chosen `median` metric for this plot, as I have identified that there are some outliers, which can produce different results for 5.0 reviews in case of using `mean` metric, which is more sensitive to outliers. "
      ],
      "metadata": {
        "id": "tC0EzJSczY3d"
      }
    },
    {
      "cell_type": "code",
      "source": [
        "plt.hist(text_df.word_count[text_df.word_count<300], bins=15)\n",
        "plt.title(\"Number of reviews per word count\")\n",
        "plt.xlabel(\"Word count\")\n",
        "plt.ylabel(\"Number of reviews\")\n",
        "\n",
        "plt.show()"
      ],
      "metadata": {
        "colab": {
          "base_uri": "https://localhost:8080/",
          "height": 295
        },
        "id": "ssX6u49f0YPx",
        "outputId": "04bd8c27-77ca-48c4-9c9d-5cc0528d570e"
      },
      "execution_count": 20,
      "outputs": [
        {
          "output_type": "display_data",
          "data": {
            "image/png": "[encoded data removed]",
            "text/plain": [
              "<Figure size 432x288 with 1 Axes>"
            ]
          },
          "metadata": {
            "needs_background": "light"
          }
        }
      ]
    },
    {
      "cell_type": "markdown",
      "source": [
        "Majority of the reviews have the length less than 100 words, and as we could see on the previous plot, the average length of the review is not higher than 30 words for any rating category. Here is the number of outliers, which have the larger number of words per review than 300 and which is less than 1% from the overall number of reviews: "
      ],
      "metadata": {
        "id": "f0ho99KZ1mru"
      }
    },
    {
      "cell_type": "code",
      "source": [
        "print(\"The number of reviews with the words count more than 300 is:\", len(text_df.word_count[text_df.word_count>300]), round(len(text_df.word_count[text_df.word_count>300])*100/len(text_df.word_count),2), \"% from total reviews\")\n",
        "print(\"The number of reviews with the words count less or equal than 2 is:\", len(text_df.word_count[text_df.word_count<3]), round(len(text_df.word_count[text_df.word_count<3])*100/len(text_df.word_count),2), \"% from total reviews\")"
      ],
      "metadata": {
        "colab": {
          "base_uri": "https://localhost:8080/"
        },
        "id": "XhDNd1GC2R5j",
        "outputId": "372ee9c0-6ead-45a5-bda7-84e6a34abcc9"
      },
      "execution_count": 26,
      "outputs": [
        {
          "output_type": "stream",
          "name": "stdout",
          "text": [
            "The number of reviews with the words count more than 300 is: 3129 0.63 % from total reviews\n",
            "The number of reviews with the words count less or equal than 2 is: 66119 13.38 % from total reviews\n"
          ]
        }
      ]
    },
    {
      "cell_type": "markdown",
      "source": [
        "As we can see, the number of reviews with more than 300 words is really neglible, while the number of reviews like \"five stars\", \"four stars\", having just 2 words, is 13.28%, which is significant. That probably can not degrade the classification accuracy, but this definitely will degrade explainability of the review, as suggested in the reference article, built on that dataset. "
      ],
      "metadata": {
        "id": "ACwTOeKtXuJe"
      }
    },
    {
      "cell_type": "markdown",
      "metadata": {
        "id": "xy0w3Hr9ggrh"
      },
      "source": [
        "References:\n",
        "1. \"Justifying recommendations using distantly-labeled reviews and fined-grained aspects\", Jianmo Ni, Jiacheng Li, Julian McAuley. Empirical Methods in Natural Language Processing (EMNLP), 2019"
      ]
    }
  ]
}